{
 "cells": [
  {
   "cell_type": "code",
   "execution_count": 17,
   "id": "08aa89b9",
   "metadata": {},
   "outputs": [
    {
     "data": {
      "text/plain": [
       "<__main__.TypeSpeedGUI at 0x16c373c00a0>"
      ]
     },
     "execution_count": 17,
     "metadata": {},
     "output_type": "execute_result"
    }
   ],
   "source": [
    "import tkinter as tk\n",
    "import time\n",
    "import threading\n",
    "import random\n",
    "\n",
    "\n",
    "class TypeSpeedGUI:\n",
    "\n",
    "    def __init__(self):\n",
    "        self.root = tk.Tk()\n",
    "\n",
    "        self.root.title(\" FastFingers - Typing Speed Application\")\n",
    "        self.root.geometry(\"800x600\")\n",
    "\n",
    "        # Load text from file\n",
    "        try:\n",
    "            with open(\"C:/Users/hp/Desktop/Beginner_project/texts.txt\", \"r\") as file:\n",
    "                self.text = file.read().split(\"\\n\")\n",
    "        except FileNotFoundError:\n",
    "            self.text = [\"Example text line 1\", \"Example text line 2\"]\n",
    "\n",
    "        # Display a random text\n",
    "        self.sample_label = tk.Label(self.root, text=random.choice(self.text), font=(\"Helvetica\", 18))\n",
    "        self.sample_label.grid(row=0, column=0, columnspan=2, padx=5, pady=5)\n",
    "\n",
    "        # Input entry field\n",
    "        self.input_entry = tk.Entry(self.root, width=40, font=(\"Helvetica\", 24))\n",
    "        self.input_entry.grid(row=1, column=0, columnspan=2, padx=5, pady=10)\n",
    "        self.input_entry.bind(\"<KeyRelease>\", self.start)\n",
    "\n",
    "        # Speed label\n",
    "        self.speed_label = tk.Label(self.root, text=\"Speed: \\n0.00 CPS\\n0.00 CPM\\n0.00 WPS\\n0.00 WPM\",\n",
    "                                    font=(\"Helvetica\", 18))\n",
    "        self.speed_label.grid(row=2, column=0, columnspan=2, padx=5, pady=10)\n",
    "\n",
    "        # Reset button\n",
    "        self.reset_button = tk.Button(self.root, text=\"Reset\", command=self.reset, font=(\"Helvetica\", 24))\n",
    "        self.reset_button.grid(row=3, column=0, columnspan=2, padx=5, pady=10)\n",
    "\n",
    "        self.counter = 0\n",
    "        self.running = False\n",
    "\n",
    "        self.root.mainloop()\n",
    "\n",
    "    def start(self, event):\n",
    "        if not self.running:\n",
    "            # Ignore special keys\n",
    "            if event.keysym not in [\"Shift_L\", \"Shift_R\", \"Control_L\", \"Control_R\", \"Alt_L\", \"Alt_R\"]:\n",
    "                self.running = True\n",
    "                self.time_thread()\n",
    "\n",
    "        # Check input against sample text\n",
    "        if not self.sample_label.cget(\"text\").startswith(self.input_entry.get()):\n",
    "            self.input_entry.config(fg=\"red\")\n",
    "        else:\n",
    "            self.input_entry.config(fg=\"black\")\n",
    "\n",
    "        # If the input matches the entire text\n",
    "        if self.input_entry.get() == self.sample_label.cget(\"text\"):\n",
    "            self.running = False\n",
    "            self.input_entry.config(fg=\"green\")\n",
    "\n",
    "    def time_thread(self):\n",
    "        if self.running:\n",
    "            self.counter += 0.1\n",
    "            cps = len(self.input_entry.get()) / self.counter  # Characters per second\n",
    "            cpm = cps * 60  # Characters per minute\n",
    "            wps = len(self.input_entry.get().split()) / self.counter  # Words per second\n",
    "            wpm = wps * 60  # Words per minute\n",
    "\n",
    "            # Update speed label\n",
    "            self.speed_label.config(text=f\"Speed: \\n{cps:.2f} CPS\\n{cpm:.2f} CPM\\n{wps:.2f} WPS\\n{wpm:.2f} WPM\")\n",
    "            # Use `after` to call time_thread again after 100ms\n",
    "            self.root.after(100, self.time_thread)\n",
    "\n",
    "    def reset(self):\n",
    "        self.running = False\n",
    "        self.counter = 0\n",
    "        # Reset speed label\n",
    "        self.speed_label.config(text=\"Speed: \\n0.00 CPS\\n0.00 CPM\\n0.00 WPS\\n0.00 WPM\")\n",
    "        # Pick a new random text\n",
    "        self.sample_label.config(text=random.choice(self.text))\n",
    "        # Clear input field\n",
    "        self.input_entry.delete(0, tk.END)\n",
    "\n",
    "\n",
    "# Run the application\n",
    "TypeSpeedGUI()\n"
   ]
  },
  {
   "cell_type": "code",
   "execution_count": null,
   "id": "69088fcf",
   "metadata": {},
   "outputs": [],
   "source": []
  },
  {
   "cell_type": "code",
   "execution_count": null,
   "id": "8b52090e",
   "metadata": {},
   "outputs": [],
   "source": []
  }
 ],
 "metadata": {
  "kernelspec": {
   "display_name": "Python 3 (ipykernel)",
   "language": "python",
   "name": "python3"
  },
  "language_info": {
   "codemirror_mode": {
    "name": "ipython",
    "version": 3
   },
   "file_extension": ".py",
   "mimetype": "text/x-python",
   "name": "python",
   "nbconvert_exporter": "python",
   "pygments_lexer": "ipython3",
   "version": "3.10.11"
  }
 },
 "nbformat": 4,
 "nbformat_minor": 5
}
